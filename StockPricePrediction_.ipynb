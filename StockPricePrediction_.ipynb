{
  "nbformat": 4,
  "nbformat_minor": 0,
  "metadata": {
    "colab": {
      "name": "StockPricePrediction .ipynb",
      "provenance": [],
      "authorship_tag": "ABX9TyPIinzOfLzI5+lHZGtxbnXK",
      "include_colab_link": true
    },
    "kernelspec": {
      "name": "python3",
      "display_name": "Python 3"
    }
  },
  "cells": [
    {
      "cell_type": "markdown",
      "metadata": {
        "id": "view-in-github",
        "colab_type": "text"
      },
      "source": [
        "<a href=\"https://colab.research.google.com/github/Qargo/Experimentation/blob/main/StockPricePrediction_.ipynb\" target=\"_parent\"><img src=\"https://colab.research.google.com/assets/colab-badge.svg\" alt=\"Open In Colab\"/></a>"
      ]
    },
    {
      "cell_type": "markdown",
      "metadata": {
        "id": "bkUmJXzJHeBJ"
      },
      "source": [
        "## Experiment 1\n",
        "This is experiment in using machine learning for stock closing price prediction. For prediction we will be constracting recurent neural network LSTM  using TensorFlow 2.0."
      ]
    },
    {
      "cell_type": "code",
      "metadata": {
        "colab": {
          "base_uri": "https://localhost:8080/"
        },
        "id": "XyMkZWVqLY03",
        "outputId": "66c6e6c3-b736-445e-fd13-e318421282e2"
      },
      "source": [
        "# Lets check if we have all packages installed, and if not lets install them\n",
        "import pkg_resources\n",
        "installedPackages = {pkg.key for pkg in pkg_resources.working_set}\n",
        "required = {'yfinance', 'pandas', 'math', 'numpy'}\n",
        "missing = required - installedPackages\n",
        "if missing:\n",
        "    !pip install yfinance"
      ],
      "execution_count": 89,
      "outputs": [
        {
          "output_type": "stream",
          "text": [
            "Requirement already satisfied: yfinance in /usr/local/lib/python3.6/dist-packages (0.1.55)\n",
            "Requirement already satisfied: pandas>=0.24 in /usr/local/lib/python3.6/dist-packages (from yfinance) (1.1.5)\n",
            "Requirement already satisfied: requests>=2.20 in /usr/local/lib/python3.6/dist-packages (from yfinance) (2.23.0)\n",
            "Requirement already satisfied: numpy>=1.15 in /usr/local/lib/python3.6/dist-packages (from yfinance) (1.19.4)\n",
            "Requirement already satisfied: multitasking>=0.0.7 in /usr/local/lib/python3.6/dist-packages (from yfinance) (0.0.9)\n",
            "Requirement already satisfied: lxml>=4.5.1 in /usr/local/lib/python3.6/dist-packages (from yfinance) (4.6.2)\n",
            "Requirement already satisfied: pytz>=2017.2 in /usr/local/lib/python3.6/dist-packages (from pandas>=0.24->yfinance) (2018.9)\n",
            "Requirement already satisfied: python-dateutil>=2.7.3 in /usr/local/lib/python3.6/dist-packages (from pandas>=0.24->yfinance) (2.8.1)\n",
            "Requirement already satisfied: chardet<4,>=3.0.2 in /usr/local/lib/python3.6/dist-packages (from requests>=2.20->yfinance) (3.0.4)\n",
            "Requirement already satisfied: certifi>=2017.4.17 in /usr/local/lib/python3.6/dist-packages (from requests>=2.20->yfinance) (2020.12.5)\n",
            "Requirement already satisfied: urllib3!=1.25.0,!=1.25.1,<1.26,>=1.21.1 in /usr/local/lib/python3.6/dist-packages (from requests>=2.20->yfinance) (1.24.3)\n",
            "Requirement already satisfied: idna<3,>=2.5 in /usr/local/lib/python3.6/dist-packages (from requests>=2.20->yfinance) (2.10)\n",
            "Requirement already satisfied: six>=1.5 in /usr/local/lib/python3.6/dist-packages (from python-dateutil>=2.7.3->pandas>=0.24->yfinance) (1.15.0)\n"
          ],
          "name": "stdout"
        }
      ]
    },
    {
      "cell_type": "code",
      "metadata": {
        "id": "9mET6eIrKq-s"
      },
      "source": [
        "# Import libraries\n",
        "import math\n",
        "import numpy as np\n",
        "import pandas as pd\n",
        "import yfinance as yahoo \n",
        "import datetime as datetime\n",
        "import pandas_datareader as web\n",
        "from sklearn.preprocessing import MinMaxScaler\n",
        "from keras.models import Sequential\n",
        "from keras. layers import Dense, LSTM, Dropout\n",
        "import matplotlib.pyplot as plt\n",
        "plt.style.use('fivethirtyeight')\n",
        "\n",
        "np.random.seed(777)"
      ],
      "execution_count": 99,
      "outputs": []
    },
    {
      "cell_type": "markdown",
      "metadata": {
        "id": "VN4tbrb2M9Wh"
      },
      "source": [
        "Get the selected stock data"
      ]
    },
    {
      "cell_type": "code",
      "metadata": {
        "id": "GUOzwUOSNHxQ"
      },
      "source": [
        "data_source = 'yahoo'\n",
        "\n",
        "if data_source == 'yahoo':\n",
        "    yahoo.pdr_override()\n"
      ],
      "execution_count": 100,
      "outputs": []
    },
    {
      "cell_type": "markdown",
      "metadata": {
        "id": "4O0OenLhNgnr"
      },
      "source": [
        "In order to change which stock you want to use, update stocks[ ]. We first need to collect historical data in order to train our neural network. "
      ]
    },
    {
      "cell_type": "code",
      "metadata": {
        "colab": {
          "base_uri": "https://localhost:8080/",
          "height": 269
        },
        "id": "pEmxdVaFNePK",
        "outputId": "d8741e7f-90c5-44ac-893d-3ed57e8bb4d2"
      },
      "source": [
        "# download dataframes using pandas_datareader\n",
        "def get_symbols(data_source, symbols, begin_date=None, end_date=None):\n",
        "    out = pd.DataFrame()\n",
        "    for symbol in symbols:\n",
        "        df = web.DataReader(symbol, data_source, begin_date, end_date)\n",
        "        df.head()\n",
        "        df.columns = ['Open', 'High', 'Low', 'Close', 'Volume', 'Adj Close']\n",
        "        df['Ticker'] = symbol\n",
        "        df['Date'] = pd.to_datetime(df.index, format='%Y-%m-%d')\n",
        "        out = pd.concat([out, df], axis=0)\n",
        "    return out\n",
        "\n",
        "# start_date = datetime.date.today() - datetime.timedelta(60)\n",
        "# end_date = datetime.date.today()\n",
        "\n",
        "start_date = datetime.date(2010, 1, 1)\n",
        "end_date = datetime.date.today()\n",
        "\n",
        "stocks = ['AAPL']\n",
        "\n",
        "print (\"Start date:\", start_date);\n",
        "print (\"End date:\", end_date)\n",
        "\n",
        "data = get_symbols(data_source, stocks, begin_date=start_date, end_date=end_date)\n",
        "\n",
        "data.head()"
      ],
      "execution_count": 101,
      "outputs": [
        {
          "output_type": "stream",
          "text": [
            "Start date: 2010-01-01\n",
            "End date: 2021-01-10\n"
          ],
          "name": "stdout"
        },
        {
          "output_type": "execute_result",
          "data": {
            "text/html": [
              "<div>\n",
              "<style scoped>\n",
              "    .dataframe tbody tr th:only-of-type {\n",
              "        vertical-align: middle;\n",
              "    }\n",
              "\n",
              "    .dataframe tbody tr th {\n",
              "        vertical-align: top;\n",
              "    }\n",
              "\n",
              "    .dataframe thead th {\n",
              "        text-align: right;\n",
              "    }\n",
              "</style>\n",
              "<table border=\"1\" class=\"dataframe\">\n",
              "  <thead>\n",
              "    <tr style=\"text-align: right;\">\n",
              "      <th></th>\n",
              "      <th>Open</th>\n",
              "      <th>High</th>\n",
              "      <th>Low</th>\n",
              "      <th>Close</th>\n",
              "      <th>Volume</th>\n",
              "      <th>Adj Close</th>\n",
              "      <th>Ticker</th>\n",
              "      <th>Date</th>\n",
              "    </tr>\n",
              "    <tr>\n",
              "      <th>Date</th>\n",
              "      <th></th>\n",
              "      <th></th>\n",
              "      <th></th>\n",
              "      <th></th>\n",
              "      <th></th>\n",
              "      <th></th>\n",
              "      <th></th>\n",
              "      <th></th>\n",
              "    </tr>\n",
              "  </thead>\n",
              "  <tbody>\n",
              "    <tr>\n",
              "      <th>2010-01-04</th>\n",
              "      <td>7.660714</td>\n",
              "      <td>7.585000</td>\n",
              "      <td>7.622500</td>\n",
              "      <td>7.643214</td>\n",
              "      <td>493729600.0</td>\n",
              "      <td>6.593423</td>\n",
              "      <td>AAPL</td>\n",
              "      <td>2010-01-04</td>\n",
              "    </tr>\n",
              "    <tr>\n",
              "      <th>2010-01-05</th>\n",
              "      <td>7.699643</td>\n",
              "      <td>7.616071</td>\n",
              "      <td>7.664286</td>\n",
              "      <td>7.656429</td>\n",
              "      <td>601904800.0</td>\n",
              "      <td>6.604822</td>\n",
              "      <td>AAPL</td>\n",
              "      <td>2010-01-05</td>\n",
              "    </tr>\n",
              "    <tr>\n",
              "      <th>2010-01-06</th>\n",
              "      <td>7.686786</td>\n",
              "      <td>7.526786</td>\n",
              "      <td>7.656429</td>\n",
              "      <td>7.534643</td>\n",
              "      <td>552160000.0</td>\n",
              "      <td>6.499765</td>\n",
              "      <td>AAPL</td>\n",
              "      <td>2010-01-06</td>\n",
              "    </tr>\n",
              "    <tr>\n",
              "      <th>2010-01-07</th>\n",
              "      <td>7.571429</td>\n",
              "      <td>7.466071</td>\n",
              "      <td>7.562500</td>\n",
              "      <td>7.520714</td>\n",
              "      <td>477131200.0</td>\n",
              "      <td>6.487749</td>\n",
              "      <td>AAPL</td>\n",
              "      <td>2010-01-07</td>\n",
              "    </tr>\n",
              "    <tr>\n",
              "      <th>2010-01-08</th>\n",
              "      <td>7.571429</td>\n",
              "      <td>7.466429</td>\n",
              "      <td>7.510714</td>\n",
              "      <td>7.570714</td>\n",
              "      <td>447610800.0</td>\n",
              "      <td>6.530882</td>\n",
              "      <td>AAPL</td>\n",
              "      <td>2010-01-08</td>\n",
              "    </tr>\n",
              "  </tbody>\n",
              "</table>\n",
              "</div>"
            ],
            "text/plain": [
              "                Open      High       Low  ...  Adj Close  Ticker       Date\n",
              "Date                                      ...                              \n",
              "2010-01-04  7.660714  7.585000  7.622500  ...   6.593423    AAPL 2010-01-04\n",
              "2010-01-05  7.699643  7.616071  7.664286  ...   6.604822    AAPL 2010-01-05\n",
              "2010-01-06  7.686786  7.526786  7.656429  ...   6.499765    AAPL 2010-01-06\n",
              "2010-01-07  7.571429  7.466071  7.562500  ...   6.487749    AAPL 2010-01-07\n",
              "2010-01-08  7.571429  7.466429  7.510714  ...   6.530882    AAPL 2010-01-08\n",
              "\n",
              "[5 rows x 8 columns]"
            ]
          },
          "metadata": {
            "tags": []
          },
          "execution_count": 101
        }
      ]
    },
    {
      "cell_type": "code",
      "metadata": {
        "colab": {
          "base_uri": "https://localhost:8080/"
        },
        "id": "CXt8r0XzCDfN",
        "outputId": "c212f16b-24c5-4bca-f402-173551082bb3"
      },
      "source": [
        "data.shape"
      ],
      "execution_count": 102,
      "outputs": [
        {
          "output_type": "execute_result",
          "data": {
            "text/plain": [
              "(2774, 8)"
            ]
          },
          "metadata": {
            "tags": []
          },
          "execution_count": 102
        }
      ]
    },
    {
      "cell_type": "markdown",
      "metadata": {
        "id": "SgTgxZrcCQ5-"
      },
      "source": [
        "Create the visualization of the data."
      ]
    },
    {
      "cell_type": "code",
      "metadata": {
        "colab": {
          "base_uri": "https://localhost:8080/",
          "height": 550
        },
        "id": "y3H5SRXkCW18",
        "outputId": "5893784c-9d2f-4fac-ef1f-609ab7037d15"
      },
      "source": [
        "# Visualize the closing price history\n",
        "plt.figure(figsize=(16, 8))\n",
        "plt.title('Close Price History', fontsize=14)\n",
        "plt.plot(data['Close'])\n",
        "plt.xlabel('Data', fontsize=14)\n",
        "plt.ylabel('Close Price USD ($)', fontsize=14)\n",
        "plt.show()"
      ],
      "execution_count": 103,
      "outputs": [
        {
          "output_type": "display_data",
          "data": {
            "image/png": "[encoded data removed]",
            "text/plain": [
              "<Figure size 1152x576 with 1 Axes>"
            ]
          },
          "metadata": {
            "tags": []
          }
        }
      ]
    },
    {
      "cell_type": "markdown",
      "metadata": {
        "id": "INbzY_f8QGyf"
      },
      "source": [
        "Create new data frame with only closing price and convert it into array."
      ]
    },
    {
      "cell_type": "code",
      "metadata": {
        "colab": {
          "base_uri": "https://localhost:8080/"
        },
        "id": "MhB5x0gXQ24G",
        "outputId": "9dbd3907-40f6-478e-c86c-7cbe95eb8c10"
      },
      "source": [
        "# Create a new dataframe\n",
        "new_data = data.filter(['Close'])\n",
        "# Convert dataframe in to a numpy array\n",
        "dataset = new_data.values\n",
        "\n",
        "# We are going to use 80% of dataset to train the neural network\n",
        "training_data_len = math.ceil(len(dataset)*0.8)\n",
        "training_data_len"
      ],
      "execution_count": 104,
      "outputs": [
        {
          "output_type": "execute_result",
          "data": {
            "text/plain": [
              "2220"
            ]
          },
          "metadata": {
            "tags": []
          },
          "execution_count": 104
        }
      ]
    },
    {
      "cell_type": "code",
      "metadata": {
        "colab": {
          "base_uri": "https://localhost:8080/"
        },
        "id": "xHP4hTiHaoVi",
        "outputId": "b369ccab-eea0-476d-b3fa-1781fc47ff66"
      },
      "source": [
        "# Now scale the dataset to be values between 0 and 1\n",
        "scaler = MinMaxScaler(feature_range=(0, 1))\n",
        "scaled_data = scaler.fit_transform(dataset) \n",
        "\n",
        "scaled_data"
      ],
      "execution_count": 105,
      "outputs": [
        {
          "output_type": "execute_result",
          "data": {
            "text/plain": [
              "array([[0.00604081],\n",
              "       [0.00614259],\n",
              "       [0.00520456],\n",
              "       ...,\n",
              "       [0.9222836 ],\n",
              "       [0.9555576 ],\n",
              "       [0.96426126]])"
            ]
          },
          "metadata": {
            "tags": []
          },
          "execution_count": 105
        }
      ]
    },
    {
      "cell_type": "markdown",
      "metadata": {
        "id": "zezbMdDVZLsY"
      },
      "source": [
        "Now lets create scaled training dataset based on the past 60 days closing price value that we are going to use in order to predict 61st closing price value."
      ]
    },
    {
      "cell_type": "code",
      "metadata": {
        "id": "1EGtac4zbV58"
      },
      "source": [
        "# Create the traning dataset\n",
        "train_data = scaled_data[0:training_data_len,:]\n",
        "\n",
        "# Split the data into x_train and y_train\n",
        "x_train = []\n",
        "y_train = []\n",
        "\n",
        "for i in range(60, len(train_data)):\n",
        "  x_train.append(train_data[i-60:i, 0])\n",
        "  y_train.append(train_data[i, 0])\n",
        "\n",
        "# convert x_train and y_train to numpy arrays\n",
        "x_train, y_train = np.array(x_train), np.array(y_train)\n",
        "\n",
        "# reshape the data into the shape accepted by the LSTM\n",
        "x_train = np.reshape(x_train,(x_train.shape[0], x_train.shape[1],1)) "
      ],
      "execution_count": 106,
      "outputs": []
    },
    {
      "cell_type": "markdown",
      "metadata": {
        "id": "W4U_5ZY1eTnK"
      },
      "source": [
        "Lets build our LSTM neural network. Our model will have two LSTM layers with 50 neurons and two dense layers, one with 25 neurons and the other with 1 neuron"
      ]
    },
    {
      "cell_type": "code",
      "metadata": {
        "id": "9dRKf1H2esZ6"
      },
      "source": [
        "# Build the LSTM network model\n",
        "#model = Sequential()\n",
        "#model.add(LSTM(50, return_sequences=True, input_shape=(x_train.shape[1],1)))\n",
        "#model.add(LSTM(50, return_sequences=False))\n",
        "#model.add(Dense(units=25))\n",
        "#model.add(Dense(units=1))\n",
        "\n",
        "model = Sequential()\n",
        "model.add(LSTM(units = 50, return_sequences = True, input_shape = (x_train.shape[1], 1)))\n",
        "model.add(Dropout(0.2))\n",
        "model.add(LSTM(units = 50, return_sequences = True))\n",
        "model.add(Dropout(0.2))\n",
        "model.add(LSTM(units = 50, return_sequences = True))\n",
        "model.add(Dropout(0.2))\n",
        "model.add(LSTM(units = 50))\n",
        "model.add(Dropout(0.2))\n",
        "model.add(Dense(units = 1))\n",
        "\n",
        "# compile the model\n",
        "model.compile(optimizer='adam', loss='mean_squared_error')"
      ],
      "execution_count": 107,
      "outputs": []
    },
    {
      "cell_type": "markdown",
      "metadata": {
        "id": "wBMyYIpaf1R4"
      },
      "source": [
        "Lets train our LSTM model"
      ]
    },
    {
      "cell_type": "code",
      "metadata": {
        "colab": {
          "base_uri": "https://localhost:8080/"
        },
        "id": "4Mb6vYaTf7jR",
        "outputId": "3666522d-f151-4ede-f22d-f4bd5635f6b9"
      },
      "source": [
        "# Train the model\n",
        "#model.fit(x_train, y_train, epochs=5, batch_size=1)\n",
        "model.fit(x_train, y_train, epochs = 100, batch_size = 32)"
      ],
      "execution_count": 108,
      "outputs": [
        {
          "output_type": "stream",
          "text": [
            "Epoch 1/100\n",
            "68/68 [==============================] - 13s 107ms/step - loss: 0.0044\n",
            "Epoch 2/100\n",
            "68/68 [==============================] - 8s 111ms/step - loss: 3.6324e-04\n",
            "Epoch 3/100\n",
            "68/68 [==============================] - 8s 115ms/step - loss: 3.8784e-04\n",
            "Epoch 4/100\n",
            "68/68 [==============================] - 8s 114ms/step - loss: 3.0005e-04\n",
            "Epoch 5/100\n",
            "68/68 [==============================] - 8s 117ms/step - loss: 3.0799e-04\n",
            "Epoch 6/100\n",
            "68/68 [==============================] - 8s 119ms/step - loss: 3.2060e-04\n",
            "Epoch 7/100\n",
            "68/68 [==============================] - 8s 119ms/step - loss: 2.4124e-04\n",
            "Epoch 8/100\n",
            "68/68 [==============================] - 8s 116ms/step - loss: 2.9879e-04\n",
            "Epoch 9/100\n",
            "68/68 [==============================] - 8s 116ms/step - loss: 2.2876e-04\n",
            "Epoch 10/100\n",
            "68/68 [==============================] - 8s 117ms/step - loss: 2.7983e-04\n",
            "Epoch 11/100\n",
            "68/68 [==============================] - 8s 118ms/step - loss: 2.1520e-04\n",
            "Epoch 12/100\n",
            "68/68 [==============================] - 8s 119ms/step - loss: 2.0663e-04\n",
            "Epoch 13/100\n",
            "68/68 [==============================] - 8s 117ms/step - loss: 2.3894e-04\n",
            "Epoch 14/100\n",
            "68/68 [==============================] - 8s 117ms/step - loss: 2.0068e-04\n",
            "Epoch 15/100\n",
            "68/68 [==============================] - 8s 115ms/step - loss: 2.1643e-04\n",
            "Epoch 16/100\n",
            "68/68 [==============================] - 8s 116ms/step - loss: 2.0597e-04\n",
            "Epoch 17/100\n",
            "68/68 [==============================] - 8s 117ms/step - loss: 2.3445e-04\n",
            "Epoch 18/100\n",
            "68/68 [==============================] - 8s 117ms/step - loss: 2.2789e-04\n",
            "Epoch 19/100\n",
            "68/68 [==============================] - 8s 116ms/step - loss: 1.8196e-04\n",
            "Epoch 20/100\n",
            "68/68 [==============================] - 8s 116ms/step - loss: 1.9502e-04\n",
            "Epoch 21/100\n",
            "68/68 [==============================] - 8s 116ms/step - loss: 1.6748e-04\n",
            "Epoch 22/100\n",
            "68/68 [==============================] - 8s 117ms/step - loss: 1.4991e-04\n",
            "Epoch 23/100\n",
            "68/68 [==============================] - 8s 115ms/step - loss: 1.8225e-04\n",
            "Epoch 24/100\n",
            "68/68 [==============================] - 8s 116ms/step - loss: 1.6611e-04\n",
            "Epoch 25/100\n",
            "68/68 [==============================] - 8s 119ms/step - loss: 1.4886e-04\n",
            "Epoch 26/100\n",
            "68/68 [==============================] - 8s 117ms/step - loss: 1.4280e-04\n",
            "Epoch 27/100\n",
            "68/68 [==============================] - 8s 117ms/step - loss: 1.4575e-04\n",
            "Epoch 28/100\n",
            "68/68 [==============================] - 8s 116ms/step - loss: 1.6817e-04\n",
            "Epoch 29/100\n",
            "68/68 [==============================] - 8s 116ms/step - loss: 1.2073e-04\n",
            "Epoch 30/100\n",
            "68/68 [==============================] - 8s 118ms/step - loss: 1.4390e-04\n",
            "Epoch 31/100\n",
            "68/68 [==============================] - 8s 116ms/step - loss: 1.7773e-04\n",
            "Epoch 32/100\n",
            "68/68 [==============================] - 8s 117ms/step - loss: 1.4512e-04\n",
            "Epoch 33/100\n",
            "68/68 [==============================] - 8s 117ms/step - loss: 1.2302e-04\n",
            "Epoch 34/100\n",
            "68/68 [==============================] - 8s 119ms/step - loss: 1.3292e-04\n",
            "Epoch 35/100\n",
            "68/68 [==============================] - 8s 117ms/step - loss: 1.2332e-04\n",
            "Epoch 36/100\n",
            "68/68 [==============================] - 8s 120ms/step - loss: 1.5014e-04\n",
            "Epoch 37/100\n",
            "68/68 [==============================] - 8s 118ms/step - loss: 1.2685e-04\n",
            "Epoch 38/100\n",
            "68/68 [==============================] - 8s 118ms/step - loss: 1.3522e-04\n",
            "Epoch 39/100\n",
            "68/68 [==============================] - 8s 116ms/step - loss: 1.6127e-04\n",
            "Epoch 40/100\n",
            "68/68 [==============================] - 8s 118ms/step - loss: 1.2148e-04\n",
            "Epoch 41/100\n",
            "68/68 [==============================] - 8s 116ms/step - loss: 1.2012e-04\n",
            "Epoch 42/100\n",
            "68/68 [==============================] - 8s 116ms/step - loss: 1.5400e-04\n",
            "Epoch 43/100\n",
            "68/68 [==============================] - 8s 117ms/step - loss: 1.1738e-04\n",
            "Epoch 44/100\n",
            "68/68 [==============================] - 8s 118ms/step - loss: 1.3057e-04\n",
            "Epoch 45/100\n",
            "68/68 [==============================] - 8s 118ms/step - loss: 1.0761e-04\n",
            "Epoch 46/100\n",
            "68/68 [==============================] - 8s 118ms/step - loss: 1.4277e-04\n",
            "Epoch 47/100\n",
            "68/68 [==============================] - 8s 117ms/step - loss: 1.0334e-04\n",
            "Epoch 48/100\n",
            "68/68 [==============================] - 8s 117ms/step - loss: 1.2492e-04\n",
            "Epoch 49/100\n",
            "68/68 [==============================] - 8s 118ms/step - loss: 1.5002e-04\n",
            "Epoch 50/100\n",
            "68/68 [==============================] - 8s 120ms/step - loss: 1.1205e-04\n",
            "Epoch 51/100\n",
            "68/68 [==============================] - 8s 118ms/step - loss: 1.2143e-04\n",
            "Epoch 52/100\n",
            "68/68 [==============================] - 8s 118ms/step - loss: 1.1683e-04\n",
            "Epoch 53/100\n",
            "68/68 [==============================] - 8s 118ms/step - loss: 1.3725e-04\n",
            "Epoch 54/100\n",
            "68/68 [==============================] - 8s 118ms/step - loss: 1.1179e-04\n",
            "Epoch 55/100\n",
            "68/68 [==============================] - 8s 118ms/step - loss: 1.2967e-04\n",
            "Epoch 56/100\n",
            "68/68 [==============================] - 8s 119ms/step - loss: 1.1278e-04\n",
            "Epoch 57/100\n",
            "68/68 [==============================] - 8s 118ms/step - loss: 1.1080e-04\n",
            "Epoch 58/100\n",
            "68/68 [==============================] - 8s 118ms/step - loss: 1.0106e-04\n",
            "Epoch 59/100\n",
            "68/68 [==============================] - 8s 118ms/step - loss: 1.1649e-04\n",
            "Epoch 60/100\n",
            "68/68 [==============================] - 8s 118ms/step - loss: 1.1078e-04\n",
            "Epoch 61/100\n",
            "68/68 [==============================] - 8s 120ms/step - loss: 1.2777e-04\n",
            "Epoch 62/100\n",
            "68/68 [==============================] - 8s 118ms/step - loss: 9.1460e-05\n",
            "Epoch 63/100\n",
            "68/68 [==============================] - 8s 119ms/step - loss: 1.0780e-04\n",
            "Epoch 64/100\n",
            "68/68 [==============================] - 8s 122ms/step - loss: 1.1868e-04\n",
            "Epoch 65/100\n",
            "68/68 [==============================] - 8s 118ms/step - loss: 1.0537e-04\n",
            "Epoch 66/100\n",
            "68/68 [==============================] - 8s 118ms/step - loss: 1.1274e-04\n",
            "Epoch 67/100\n",
            "68/68 [==============================] - 8s 118ms/step - loss: 1.2015e-04\n",
            "Epoch 68/100\n",
            "68/68 [==============================] - 8s 117ms/step - loss: 1.1932e-04\n",
            "Epoch 69/100\n",
            "68/68 [==============================] - 8s 119ms/step - loss: 1.3108e-04\n",
            "Epoch 70/100\n",
            "68/68 [==============================] - 8s 118ms/step - loss: 1.1672e-04\n",
            "Epoch 71/100\n",
            "68/68 [==============================] - 8s 118ms/step - loss: 1.0973e-04\n",
            "Epoch 72/100\n",
            "68/68 [==============================] - 8s 117ms/step - loss: 1.0407e-04\n",
            "Epoch 73/100\n",
            "68/68 [==============================] - 8s 117ms/step - loss: 1.1272e-04\n",
            "Epoch 74/100\n",
            "68/68 [==============================] - 8s 119ms/step - loss: 1.0403e-04\n",
            "Epoch 75/100\n",
            "68/68 [==============================] - 8s 120ms/step - loss: 1.0500e-04\n",
            "Epoch 76/100\n",
            "68/68 [==============================] - 8s 118ms/step - loss: 1.2280e-04\n",
            "Epoch 77/100\n",
            "68/68 [==============================] - 8s 120ms/step - loss: 1.0990e-04\n",
            "Epoch 78/100\n",
            "68/68 [==============================] - 8s 118ms/step - loss: 1.0489e-04\n",
            "Epoch 79/100\n",
            "68/68 [==============================] - 8s 118ms/step - loss: 1.0048e-04\n",
            "Epoch 80/100\n",
            "68/68 [==============================] - 8s 118ms/step - loss: 1.2899e-04\n",
            "Epoch 81/100\n",
            "68/68 [==============================] - 8s 119ms/step - loss: 1.2619e-04\n",
            "Epoch 82/100\n",
            "68/68 [==============================] - 8s 119ms/step - loss: 9.0484e-05\n",
            "Epoch 83/100\n",
            "68/68 [==============================] - 8s 118ms/step - loss: 1.0079e-04\n",
            "Epoch 84/100\n",
            "68/68 [==============================] - 8s 117ms/step - loss: 1.0254e-04\n",
            "Epoch 85/100\n",
            "68/68 [==============================] - 8s 116ms/step - loss: 9.3036e-05\n",
            "Epoch 86/100\n",
            "68/68 [==============================] - 8s 117ms/step - loss: 8.9498e-05\n",
            "Epoch 87/100\n",
            "68/68 [==============================] - 8s 118ms/step - loss: 1.0520e-04\n",
            "Epoch 88/100\n",
            "68/68 [==============================] - 8s 118ms/step - loss: 1.1910e-04\n",
            "Epoch 89/100\n",
            "68/68 [==============================] - 8s 119ms/step - loss: 9.7344e-05\n",
            "Epoch 90/100\n",
            "68/68 [==============================] - 8s 118ms/step - loss: 9.8500e-05\n",
            "Epoch 91/100\n",
            "68/68 [==============================] - 8s 118ms/step - loss: 9.4854e-05\n",
            "Epoch 92/100\n",
            "68/68 [==============================] - 8s 118ms/step - loss: 1.2585e-04\n",
            "Epoch 93/100\n",
            "68/68 [==============================] - 8s 118ms/step - loss: 1.0111e-04\n",
            "Epoch 94/100\n",
            "68/68 [==============================] - 8s 118ms/step - loss: 1.0188e-04\n",
            "Epoch 95/100\n",
            "68/68 [==============================] - 8s 118ms/step - loss: 9.1735e-05\n",
            "Epoch 96/100\n",
            "68/68 [==============================] - 8s 119ms/step - loss: 1.0143e-04\n",
            "Epoch 97/100\n",
            "68/68 [==============================] - 8s 119ms/step - loss: 1.1859e-04\n",
            "Epoch 98/100\n",
            "68/68 [==============================] - 8s 119ms/step - loss: 8.6382e-05\n",
            "Epoch 99/100\n",
            "68/68 [==============================] - 8s 119ms/step - loss: 1.2221e-04\n",
            "Epoch 100/100\n",
            "68/68 [==============================] - 8s 120ms/step - loss: 9.7882e-05\n"
          ],
          "name": "stdout"
        },
        {
          "output_type": "execute_result",
          "data": {
            "text/plain": [
              "<tensorflow.python.keras.callbacks.History at 0x7f03841ab208>"
            ]
          },
          "metadata": {
            "tags": []
          },
          "execution_count": 108
        }
      ]
    },
    {
      "cell_type": "markdown",
      "metadata": {
        "id": "-LSmXMIWwfVI"
      },
      "source": [
        "Create test dataset"
      ]
    },
    {
      "cell_type": "code",
      "metadata": {
        "id": "EUAE_zcrwjSj"
      },
      "source": [
        "# Test data set\n",
        "test_data = scaled_data[training_data_len - 60:,:]\n",
        "\n",
        "# Create the x_test adn y_test data set\n",
        "x_test = []\n",
        "y_test = dataset[training_data_len:,:]\n",
        "\n",
        "for i in range(60, len(test_data)):\n",
        "  x_test.append(test_data[i-60:i, 0])\n",
        "\n",
        "# convert x_test to a numpy array\n",
        "x_test = np.array(x_test)\n",
        "\n",
        "# reshape the data into shape acceted by the LSTM\n",
        "x_test = np.reshape(x_test, (x_test.shape[0], x_test.shape[1], 1))"
      ],
      "execution_count": 109,
      "outputs": []
    },
    {
      "cell_type": "markdown",
      "metadata": {
        "id": "lQB5iOdszHHj"
      },
      "source": [
        "Get the predicted values from the model using the test data."
      ]
    },
    {
      "cell_type": "code",
      "metadata": {
        "id": "j_1p6FO3zP4-"
      },
      "source": [
        "# Getting the models predicted price values\n",
        "predictions = model.predict(x_test)\n",
        "predictions = scaler.inverse_transform(predictions)"
      ],
      "execution_count": 110,
      "outputs": []
    },
    {
      "cell_type": "markdown",
      "metadata": {
        "id": "Q-98SGetzwqS"
      },
      "source": [
        "Lets see how good did model performed."
      ]
    },
    {
      "cell_type": "code",
      "metadata": {
        "colab": {
          "base_uri": "https://localhost:8080/"
        },
        "id": "3pT36tXzz0gW",
        "outputId": "ee16af4e-5759-4544-f1be-e72d5c14bfcc"
      },
      "source": [
        "# calculate value of RMSE\n",
        "rmse = np.sqrt(np.mean(((predictions - y_test)**2)))\n",
        "rmse "
      ],
      "execution_count": 111,
      "outputs": [
        {
          "output_type": "execute_result",
          "data": {
            "text/plain": [
              "5.908388800063696"
            ]
          },
          "metadata": {
            "tags": []
          },
          "execution_count": 111
        }
      ]
    },
    {
      "cell_type": "markdown",
      "metadata": {
        "id": "R1lwo6Ep0Mv0"
      },
      "source": [
        "Lets visulize the predictions"
      ]
    },
    {
      "cell_type": "code",
      "metadata": {
        "colab": {
          "base_uri": "https://localhost:8080/",
          "height": 656
        },
        "id": "1jIPLO_v0RHG",
        "outputId": "d1f0ec32-836a-48f4-fc1d-3e0ee1678659"
      },
      "source": [
        "# plot the data for the graph\n",
        "train = data[:training_data_len]\n",
        "valid = data[training_data_len:]\n",
        "valid['Predictions'] = predictions\n",
        "\n",
        "plt.figure(figsize=(16,8))\n",
        "plt.title('Model')\n",
        "plt.xlabel('Data', fontsize=14)\n",
        "plt.ylabel('Close Price USD ($)', fontsize=14)\n",
        "plt.plot(train['Close'])\n",
        "plt.plot(valid[['Close', 'Predictions']])\n",
        "plt.legend(['Train', 'Val', 'Predictions'], loc='lower right')\n",
        "plt.show()"
      ],
      "execution_count": 112,
      "outputs": [
        {
          "output_type": "stream",
          "text": [
            "/usr/local/lib/python3.6/dist-packages/ipykernel_launcher.py:4: SettingWithCopyWarning: \n",
            "A value is trying to be set on a copy of a slice from a DataFrame.\n",
            "Try using .loc[row_indexer,col_indexer] = value instead\n",
            "\n",
            "See the caveats in the documentation: https://pandas.pydata.org/pandas-docs/stable/user_guide/indexing.html#returning-a-view-versus-a-copy\n",
            "  after removing the cwd from sys.path.\n"
          ],
          "name": "stderr"
        },
        {
          "output_type": "display_data",
          "data": {
            "image/png": "[encoded data removed]",
            "text/plain": [
              "<Figure size 1152x576 with 1 Axes>"
            ]
          },
          "metadata": {
            "tags": []
          }
        }
      ]
    },
    {
      "cell_type": "code",
      "metadata": {
        "colab": {
          "base_uri": "https://localhost:8080/",
          "height": 450
        },
        "id": "0Up8wfpU-sJu",
        "outputId": "db9810b0-e4bf-4a49-dc73-7d81d0d0cc31"
      },
      "source": [
        "# Show the valid and predictions\n",
        "valid"
      ],
      "execution_count": 88,
      "outputs": [
        {
          "output_type": "execute_result",
          "data": {
            "text/html": [
              "<div>\n",
              "<style scoped>\n",
              "    .dataframe tbody tr th:only-of-type {\n",
              "        vertical-align: middle;\n",
              "    }\n",
              "\n",
              "    .dataframe tbody tr th {\n",
              "        vertical-align: top;\n",
              "    }\n",
              "\n",
              "    .dataframe thead th {\n",
              "        text-align: right;\n",
              "    }\n",
              "</style>\n",
              "<table border=\"1\" class=\"dataframe\">\n",
              "  <thead>\n",
              "    <tr style=\"text-align: right;\">\n",
              "      <th></th>\n",
              "      <th>Open</th>\n",
              "      <th>High</th>\n",
              "      <th>Low</th>\n",
              "      <th>Close</th>\n",
              "      <th>Volume</th>\n",
              "      <th>Adj Close</th>\n",
              "      <th>Ticker</th>\n",
              "      <th>Date</th>\n",
              "      <th>Predictions</th>\n",
              "    </tr>\n",
              "    <tr>\n",
              "      <th>Date</th>\n",
              "      <th></th>\n",
              "      <th></th>\n",
              "      <th></th>\n",
              "      <th></th>\n",
              "      <th></th>\n",
              "      <th></th>\n",
              "      <th></th>\n",
              "      <th></th>\n",
              "      <th></th>\n",
              "    </tr>\n",
              "  </thead>\n",
              "  <tbody>\n",
              "    <tr>\n",
              "      <th>2018-10-26</th>\n",
              "      <td>55.047501</td>\n",
              "      <td>53.167500</td>\n",
              "      <td>53.974998</td>\n",
              "      <td>54.075001</td>\n",
              "      <td>189033600.0</td>\n",
              "      <td>52.634758</td>\n",
              "      <td>AAPL</td>\n",
              "      <td>2018-10-26</td>\n",
              "      <td>52.579334</td>\n",
              "    </tr>\n",
              "    <tr>\n",
              "      <th>2018-10-29</th>\n",
              "      <td>54.922501</td>\n",
              "      <td>51.522499</td>\n",
              "      <td>54.797501</td>\n",
              "      <td>53.060001</td>\n",
              "      <td>183742000.0</td>\n",
              "      <td>51.646793</td>\n",
              "      <td>AAPL</td>\n",
              "      <td>2018-10-29</td>\n",
              "      <td>51.836857</td>\n",
              "    </tr>\n",
              "    <tr>\n",
              "      <th>2018-10-30</th>\n",
              "      <td>53.794998</td>\n",
              "      <td>52.317501</td>\n",
              "      <td>52.787498</td>\n",
              "      <td>53.325001</td>\n",
              "      <td>146640000.0</td>\n",
              "      <td>51.904736</td>\n",
              "      <td>AAPL</td>\n",
              "      <td>2018-10-30</td>\n",
              "      <td>50.873322</td>\n",
              "    </tr>\n",
              "    <tr>\n",
              "      <th>2018-10-31</th>\n",
              "      <td>55.112499</td>\n",
              "      <td>54.154999</td>\n",
              "      <td>54.220001</td>\n",
              "      <td>54.715000</td>\n",
              "      <td>153435600.0</td>\n",
              "      <td>53.257713</td>\n",
              "      <td>AAPL</td>\n",
              "      <td>2018-10-31</td>\n",
              "      <td>51.141987</td>\n",
              "    </tr>\n",
              "    <tr>\n",
              "      <th>2018-11-01</th>\n",
              "      <td>55.590000</td>\n",
              "      <td>54.202499</td>\n",
              "      <td>54.762501</td>\n",
              "      <td>55.555000</td>\n",
              "      <td>233292800.0</td>\n",
              "      <td>54.075333</td>\n",
              "      <td>AAPL</td>\n",
              "      <td>2018-11-01</td>\n",
              "      <td>52.527851</td>\n",
              "    </tr>\n",
              "    <tr>\n",
              "      <th>...</th>\n",
              "      <td>...</td>\n",
              "      <td>...</td>\n",
              "      <td>...</td>\n",
              "      <td>...</td>\n",
              "      <td>...</td>\n",
              "      <td>...</td>\n",
              "      <td>...</td>\n",
              "      <td>...</td>\n",
              "      <td>...</td>\n",
              "    </tr>\n",
              "    <tr>\n",
              "      <th>2021-01-04</th>\n",
              "      <td>133.610001</td>\n",
              "      <td>126.760002</td>\n",
              "      <td>133.520004</td>\n",
              "      <td>129.410004</td>\n",
              "      <td>143301900.0</td>\n",
              "      <td>129.410004</td>\n",
              "      <td>AAPL</td>\n",
              "      <td>2021-01-04</td>\n",
              "      <td>123.313484</td>\n",
              "    </tr>\n",
              "    <tr>\n",
              "      <th>2021-01-05</th>\n",
              "      <td>131.740005</td>\n",
              "      <td>128.429993</td>\n",
              "      <td>128.889999</td>\n",
              "      <td>131.009995</td>\n",
              "      <td>97664900.0</td>\n",
              "      <td>131.009995</td>\n",
              "      <td>AAPL</td>\n",
              "      <td>2021-01-05</td>\n",
              "      <td>120.091820</td>\n",
              "    </tr>\n",
              "    <tr>\n",
              "      <th>2021-01-06</th>\n",
              "      <td>131.050003</td>\n",
              "      <td>126.379997</td>\n",
              "      <td>127.720001</td>\n",
              "      <td>126.599998</td>\n",
              "      <td>155088000.0</td>\n",
              "      <td>126.599998</td>\n",
              "      <td>AAPL</td>\n",
              "      <td>2021-01-06</td>\n",
              "      <td>122.417702</td>\n",
              "    </tr>\n",
              "    <tr>\n",
              "      <th>2021-01-07</th>\n",
              "      <td>131.630005</td>\n",
              "      <td>127.860001</td>\n",
              "      <td>128.360001</td>\n",
              "      <td>130.919998</td>\n",
              "      <td>109578200.0</td>\n",
              "      <td>130.919998</td>\n",
              "      <td>AAPL</td>\n",
              "      <td>2021-01-07</td>\n",
              "      <td>117.803566</td>\n",
              "    </tr>\n",
              "    <tr>\n",
              "      <th>2021-01-08</th>\n",
              "      <td>132.630005</td>\n",
              "      <td>130.229996</td>\n",
              "      <td>132.429993</td>\n",
              "      <td>132.050003</td>\n",
              "      <td>104965400.0</td>\n",
              "      <td>132.050003</td>\n",
              "      <td>AAPL</td>\n",
              "      <td>2021-01-08</td>\n",
              "      <td>123.079987</td>\n",
              "    </tr>\n",
              "  </tbody>\n",
              "</table>\n",
              "<p>554 rows × 9 columns</p>\n",
              "</div>"
            ],
            "text/plain": [
              "                  Open        High         Low  ...  Ticker       Date  Predictions\n",
              "Date                                            ...                                \n",
              "2018-10-26   55.047501   53.167500   53.974998  ...    AAPL 2018-10-26    52.579334\n",
              "2018-10-29   54.922501   51.522499   54.797501  ...    AAPL 2018-10-29    51.836857\n",
              "2018-10-30   53.794998   52.317501   52.787498  ...    AAPL 2018-10-30    50.873322\n",
              "2018-10-31   55.112499   54.154999   54.220001  ...    AAPL 2018-10-31    51.141987\n",
              "2018-11-01   55.590000   54.202499   54.762501  ...    AAPL 2018-11-01    52.527851\n",
              "...                ...         ...         ...  ...     ...        ...          ...\n",
              "2021-01-04  133.610001  126.760002  133.520004  ...    AAPL 2021-01-04   123.313484\n",
              "2021-01-05  131.740005  128.429993  128.889999  ...    AAPL 2021-01-05   120.091820\n",
              "2021-01-06  131.050003  126.379997  127.720001  ...    AAPL 2021-01-06   122.417702\n",
              "2021-01-07  131.630005  127.860001  128.360001  ...    AAPL 2021-01-07   117.803566\n",
              "2021-01-08  132.630005  130.229996  132.429993  ...    AAPL 2021-01-08   123.079987\n",
              "\n",
              "[554 rows x 9 columns]"
            ]
          },
          "metadata": {
            "tags": []
          },
          "execution_count": 88
        }
      ]
    }
  ]
}